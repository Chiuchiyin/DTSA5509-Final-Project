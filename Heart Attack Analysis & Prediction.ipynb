{
 "cells": [
  {
   "cell_type": "markdown",
   "id": "476461be",
   "metadata": {},
   "source": [
    "# Final Project for DTSA-5509\n",
    "\n",
    "Kevin Juandi <br> 2023-10-09"
   ]
  },
  {
   "cell_type": "markdown",
   "id": "faeaab8a",
   "metadata": {},
   "source": [
    "## Introduction and Problem Description"
   ]
  },
  {
   "cell_type": "markdown",
   "id": "652aa221",
   "metadata": {},
   "source": [
    "Welcome to my final project for DTSA-5509! Before running this notebook, please ensure you have all required dependancies installed in your build. All required packages are listed in the next section."
   ]
  },
  {
   "cell_type": "markdown",
   "id": "5d911bf9",
   "metadata": {},
   "source": [
    "I previously worked in cardiology research and is looking for opportunities to work in healthcare. With that in mind, I look for a related topic to my previous background and stumbled upon this dataset on [Kaggle](https://www.kaggle.com/datasets/shayanfazeli/heartbeat)<sup>[1]</sup>. I have also included the data in the repo for easy access."
   ]
  },
  {
   "cell_type": "markdown",
   "id": "d78269f8",
   "metadata": {},
   "source": [
    "The purpose of this project is to train classification algorithm in attempt to predict various types of heart arrhythmias based on ECG Data.\n",
    "\n",
    "An ECG (Electrocardiogram) is a medical test that measures the electrical signals of the heart and is essential for diagnosing many heart related diseases. A healthy individual's heartbeat on an ECG is characterized by a distinctive waveform, representing the normal functioning of the heart.\n",
    "\n",
    "However, when the heart is not functioning optimally, the ECG detects distortions to the anticipated waveform, severe and life-threatening arrhythmias might present a different or nonexistent waveform altogether.\n",
    "\n",
    "This project attempts to use supervised machine learning techniques to classify ECG data as either healthy or as one of four different kinds of arrhythmia."
   ]
  },
  {
   "cell_type": "markdown",
   "id": "4185bd86",
   "metadata": {},
   "source": [
    "## Bibliography:"
   ]
  },
  {
   "cell_type": "markdown",
   "id": "d396b637",
   "metadata": {},
   "source": [
    "[1] *ECG Heartbeat Categorization Dataset*. (n.d.). Www.kaggle.com. https://www.kaggle.com/datasets/shayanfazeli/heartbeat"
   ]
  },
  {
   "cell_type": "code",
   "execution_count": null,
   "id": "b992e64f",
   "metadata": {},
   "outputs": [],
   "source": []
  }
 ],
 "metadata": {
  "kernelspec": {
   "display_name": "Python 3 (ipykernel)",
   "language": "python",
   "name": "python3"
  },
  "language_info": {
   "codemirror_mode": {
    "name": "ipython",
    "version": 3
   },
   "file_extension": ".py",
   "mimetype": "text/x-python",
   "name": "python",
   "nbconvert_exporter": "python",
   "pygments_lexer": "ipython3",
   "version": "3.9.13"
  },
  "toc": {
   "base_numbering": 1,
   "nav_menu": {},
   "number_sections": true,
   "sideBar": true,
   "skip_h1_title": true,
   "title_cell": "Table of Contents",
   "title_sidebar": "Contents",
   "toc_cell": false,
   "toc_position": {
    "height": "calc(100% - 180px)",
    "left": "10px",
    "top": "150px",
    "width": "165px"
   },
   "toc_section_display": true,
   "toc_window_display": true
  }
 },
 "nbformat": 4,
 "nbformat_minor": 5
}
