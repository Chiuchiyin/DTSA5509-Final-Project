{
 "cells": [
  {
   "cell_type": "markdown",
   "id": "476461be",
   "metadata": {},
   "source": [
    "# Final Project for DTSA-5509\n",
    "\n",
    "Kevin Juandi <br> 2023-10-09"
   ]
  },
  {
   "cell_type": "markdown",
   "id": "9530570e",
   "metadata": {},
   "source": [
    "## Introduction and Problem Description"
   ]
  },
  {
   "cell_type": "markdown",
   "id": "b238453c",
   "metadata": {},
   "source": [
    "Welcome to my final project for DTSA-5509! Before running this notebook, please ensure you have all required dependancies installed in your build. All required packages are listed in the next section."
   ]
  },
  {
   "cell_type": "markdown",
   "id": "469e910b",
   "metadata": {},
   "source": [
    "I previously worked in cardiology research and is looking for opportunities to work in healthcare. With that in mind, I look for a related topic to my previous background and stumbled upon this dataset on [Kaggle](https://www.kaggle.com/datasets/shayanfazeli/heartbeat)<sup>[1]</sup>. The dataset itself is a compilation of two famous datasets in heartbeat classification, the [MIT-BIH Arrhythmia Dataset](https://www.physionet.org/content/mitdb/1.0.0/)<sup>[2]</sup> and the [PTB Diagnostic ECG Database](https://www.physionet.org/content/ptbdb/1.0.0/)<sup>[3]</sup>. The dataset is unfortunately too large to be included in the repo."
   ]
  },
  {
   "cell_type": "markdown",
   "id": "88f2766b",
   "metadata": {},
   "source": [
    "The purpose of this project is to train classification algorithm in attempt to predict various types of cardiac arrhythmias based on ECG Data.\n",
    "\n",
    "An ECG (Electrocardiogram) is a medical test that measures the electrical signals of the heart and is essential for diagnosing many cardiac diseases. A healthy individual's heartbeat on an ECG is characterized by a distinctive waveform, representing normal functioning of the heart.\n",
    "\n",
    "However, when the heart is not functioning optimally, the ECG detects distortions in the anticipated waveform, severe and life-threatening arrhythmias might present a different or nonexistent waveform altogether.\n",
    "\n",
    "This project attempts to use machine learning techniques to classify ECG data as either healthy or as one of four different kinds of arrhythmia."
   ]
  },
  {
   "cell_type": "markdown",
   "id": "83280f2d",
   "metadata": {},
   "source": [
    "Each observation in the dataset represents a single heartbeat on an ECG and is sampled at 125 Hz with 187 total points per observation (~1.5 seconds per observation). These time series points serve as the features of our dataset. Many of these heartbeats are padded with zeros at the end if they lasted for less than 1.5 seconds. Each observation is classified into one of five categories: 0=Normal, 1=Atrial Premature, 2=Premature ventricular contraction, 3=Fusion of ventricular and normal, 5=Unclassifiable."
   ]
  },
  {
   "cell_type": "markdown",
   "id": "ababb3c3",
   "metadata": {},
   "source": [
    "Without further ado, let us begin working"
   ]
  },
  {
   "cell_type": "markdown",
   "id": "057bdc2e",
   "metadata": {},
   "source": [
    "## Loading dependancies"
   ]
  },
  {
   "cell_type": "code",
   "execution_count": 1,
   "id": "1ca5deef",
   "metadata": {
    "ExecuteTime": {
     "end_time": "2023-10-09T15:32:46.788660Z",
     "start_time": "2023-10-09T15:32:44.400845Z"
    }
   },
   "outputs": [],
   "source": [
    "import os\n",
    "import pandas as pd\n",
    "import numpy as np\n",
    "import matplotlib.pyplot as plt\n",
    "import joblib\n",
    "import seaborn as sns\n",
    "from sklearn.neighbors import KNeighborsClassifier\n",
    "from sklearn.ensemble import RandomForestClassifier, GradientBoostingClassifier, IsolationForest\n",
    "from sklearn.model_selection import train_test_split, cross_val_score, GridSearchCV, RandomizedSearchCV\n",
    "from sklearn.feature_selection import SelectFromModel\n",
    "from sklearn.metrics import confusion_matrix, ConfusionMatrixDisplay, f1_score, make_scorer, precision_score, recall_score, accuracy_score\n",
    "from sklearn.cluster import DBSCAN\n",
    "from sklearn.svm import SVC\n",
    "%matplotlib inline"
   ]
  },
  {
   "cell_type": "markdown",
   "id": "344b4ab1",
   "metadata": {},
   "source": [
    "## Helper functions"
   ]
  },
  {
   "cell_type": "code",
   "execution_count": 44,
   "id": "9d3400b3",
   "metadata": {
    "ExecuteTime": {
     "end_time": "2023-10-09T16:31:19.277496Z",
     "start_time": "2023-10-09T16:31:19.262707Z"
    }
   },
   "outputs": [],
   "source": [
    "def train_model(model, X_train, y_train, cv_type, name, **cv_kwargs):\n",
    "    \"\"\"Trains a machine learning model using the provided training data and cross validation search type.\n",
    "    The best model is saved to file with the given name. If that file already exists, this function simply loads it\"\"\"\n",
    "    file_name = f\"./{name}.pkl\"\n",
    "    \n",
    "    if os.path.isfile(file_name):\n",
    "        model = joblib.load(file_name)\n",
    "    else:\n",
    "        if cv_type == \"grid\":\n",
    "            model = GridSearchCV(model, **cv_kwargs)\n",
    "        else:\n",
    "            model = RandomizedSearchCV(model, **cv_kwargs)\n",
    "        \n",
    "        model.fit(X_train, y_train)\n",
    "\n",
    "        joblib.dump(model, file_name)\n",
    "    \n",
    "    print(\"Best Model Parameters\")\n",
    "    print(model.best_params_)\n",
    "    \n",
    "    return model\n",
    "\n",
    "def make_confusion_matrix(model, X, y):\n",
    "    \"\"\"Display the confusion matrix of a model's predictions of given data. Also display Macro F1 Score.\"\"\"\n",
    "    \n",
    "    yhat = model.predict(X)\n",
    "    \n",
    "    f1 = f1_score(y_test, yhat, average=\"macro\")\n",
    "    print(f\"Macro F1 Score = {f1}\")\n",
    "    \n",
    "    cm = ConfusionMatrixDisplay(confusion_matrix(y, yhat))\n",
    "    cm.plot()\n",
    "    \n",
    "def add_to_model_summary_df(summary_df, model, model_name, X_test, y_test):\n",
    "    \"\"\"Compiles the results of many machine learning models into a single dataframe for easy analysis\"\"\"\n",
    "    if summary_df is None:\n",
    "        summary_df = pd.DataFrame(columns=[\"Name\", \"Accuracy\", \"Precision\", \"Recall\", \"Macro F1\", \"Train Time\"])\n",
    "        \n",
    "    y_test_pred = model.predict(X_test)\n",
    "    \n",
    "    model_summary_dict = {\"Name\": [model_name],\n",
    "                          \"Accuracy\": [accuracy_score(y_test, y_test_pred)],\n",
    "                          \"Precision\": [precision_score(y_test, y_test_pred, average=\"macro\")],\n",
    "                          \"Recall\": [recall_score(y_test, y_test_pred, average=\"macro\")],\n",
    "                          \"Macro F1\": [f1_score(y_test, y_test_pred, average=\"macro\")],\n",
    "                          \"Train Time\": [np.sum(model.cv_results_[\"mean_fit_time\"])]}\n",
    "    \n",
    "    return pd.concat([summary_df, pd.DataFrame(model_summary_dict)], ignore_index=True)"
   ]
  },
  {
   "cell_type": "markdown",
   "id": "6ad59e9c",
   "metadata": {},
   "source": [
    "## Load the data\n",
    "\n",
    "like most dataset on Kaggle, this data is already pre-separated into training and test set. However, column labels aren't provided so we would just label the, as their point number in time series"
   ]
  },
  {
   "cell_type": "code",
   "execution_count": 2,
   "id": "42d8c3e7",
   "metadata": {
    "ExecuteTime": {
     "end_time": "2023-10-09T15:47:40.947458Z",
     "start_time": "2023-10-09T15:47:36.820178Z"
    }
   },
   "outputs": [
    {
     "data": {
      "text/html": [
       "<div>\n",
       "<style scoped>\n",
       "    .dataframe tbody tr th:only-of-type {\n",
       "        vertical-align: middle;\n",
       "    }\n",
       "\n",
       "    .dataframe tbody tr th {\n",
       "        vertical-align: top;\n",
       "    }\n",
       "\n",
       "    .dataframe thead th {\n",
       "        text-align: right;\n",
       "    }\n",
       "</style>\n",
       "<table border=\"1\" class=\"dataframe\">\n",
       "  <thead>\n",
       "    <tr style=\"text-align: right;\">\n",
       "      <th></th>\n",
       "      <th>Point 1</th>\n",
       "      <th>Point 2</th>\n",
       "      <th>Point 3</th>\n",
       "      <th>Point 4</th>\n",
       "      <th>Point 5</th>\n",
       "      <th>Point 6</th>\n",
       "      <th>Point 7</th>\n",
       "      <th>Point 8</th>\n",
       "      <th>Point 9</th>\n",
       "      <th>Point 10</th>\n",
       "      <th>...</th>\n",
       "      <th>Point 179</th>\n",
       "      <th>Point 180</th>\n",
       "      <th>Point 181</th>\n",
       "      <th>Point 182</th>\n",
       "      <th>Point 183</th>\n",
       "      <th>Point 184</th>\n",
       "      <th>Point 185</th>\n",
       "      <th>Point 186</th>\n",
       "      <th>Point 187</th>\n",
       "      <th>label</th>\n",
       "    </tr>\n",
       "  </thead>\n",
       "  <tbody>\n",
       "    <tr>\n",
       "      <th>0</th>\n",
       "      <td>0.977941</td>\n",
       "      <td>0.926471</td>\n",
       "      <td>0.681373</td>\n",
       "      <td>0.245098</td>\n",
       "      <td>0.154412</td>\n",
       "      <td>0.191176</td>\n",
       "      <td>0.151961</td>\n",
       "      <td>0.085784</td>\n",
       "      <td>0.058824</td>\n",
       "      <td>0.049020</td>\n",
       "      <td>...</td>\n",
       "      <td>0.0</td>\n",
       "      <td>0.0</td>\n",
       "      <td>0.0</td>\n",
       "      <td>0.0</td>\n",
       "      <td>0.0</td>\n",
       "      <td>0.0</td>\n",
       "      <td>0.0</td>\n",
       "      <td>0.0</td>\n",
       "      <td>0.0</td>\n",
       "      <td>0</td>\n",
       "    </tr>\n",
       "    <tr>\n",
       "      <th>1</th>\n",
       "      <td>0.960114</td>\n",
       "      <td>0.863248</td>\n",
       "      <td>0.461538</td>\n",
       "      <td>0.196581</td>\n",
       "      <td>0.094017</td>\n",
       "      <td>0.125356</td>\n",
       "      <td>0.099715</td>\n",
       "      <td>0.088319</td>\n",
       "      <td>0.074074</td>\n",
       "      <td>0.082621</td>\n",
       "      <td>...</td>\n",
       "      <td>0.0</td>\n",
       "      <td>0.0</td>\n",
       "      <td>0.0</td>\n",
       "      <td>0.0</td>\n",
       "      <td>0.0</td>\n",
       "      <td>0.0</td>\n",
       "      <td>0.0</td>\n",
       "      <td>0.0</td>\n",
       "      <td>0.0</td>\n",
       "      <td>0</td>\n",
       "    </tr>\n",
       "    <tr>\n",
       "      <th>2</th>\n",
       "      <td>1.000000</td>\n",
       "      <td>0.659459</td>\n",
       "      <td>0.186486</td>\n",
       "      <td>0.070270</td>\n",
       "      <td>0.070270</td>\n",
       "      <td>0.059459</td>\n",
       "      <td>0.056757</td>\n",
       "      <td>0.043243</td>\n",
       "      <td>0.054054</td>\n",
       "      <td>0.045946</td>\n",
       "      <td>...</td>\n",
       "      <td>0.0</td>\n",
       "      <td>0.0</td>\n",
       "      <td>0.0</td>\n",
       "      <td>0.0</td>\n",
       "      <td>0.0</td>\n",
       "      <td>0.0</td>\n",
       "      <td>0.0</td>\n",
       "      <td>0.0</td>\n",
       "      <td>0.0</td>\n",
       "      <td>0</td>\n",
       "    </tr>\n",
       "    <tr>\n",
       "      <th>3</th>\n",
       "      <td>0.925414</td>\n",
       "      <td>0.665746</td>\n",
       "      <td>0.541436</td>\n",
       "      <td>0.276243</td>\n",
       "      <td>0.196133</td>\n",
       "      <td>0.077348</td>\n",
       "      <td>0.071823</td>\n",
       "      <td>0.060773</td>\n",
       "      <td>0.066298</td>\n",
       "      <td>0.058011</td>\n",
       "      <td>...</td>\n",
       "      <td>0.0</td>\n",
       "      <td>0.0</td>\n",
       "      <td>0.0</td>\n",
       "      <td>0.0</td>\n",
       "      <td>0.0</td>\n",
       "      <td>0.0</td>\n",
       "      <td>0.0</td>\n",
       "      <td>0.0</td>\n",
       "      <td>0.0</td>\n",
       "      <td>0</td>\n",
       "    </tr>\n",
       "    <tr>\n",
       "      <th>4</th>\n",
       "      <td>0.967136</td>\n",
       "      <td>1.000000</td>\n",
       "      <td>0.830986</td>\n",
       "      <td>0.586854</td>\n",
       "      <td>0.356808</td>\n",
       "      <td>0.248826</td>\n",
       "      <td>0.145540</td>\n",
       "      <td>0.089202</td>\n",
       "      <td>0.117371</td>\n",
       "      <td>0.150235</td>\n",
       "      <td>...</td>\n",
       "      <td>0.0</td>\n",
       "      <td>0.0</td>\n",
       "      <td>0.0</td>\n",
       "      <td>0.0</td>\n",
       "      <td>0.0</td>\n",
       "      <td>0.0</td>\n",
       "      <td>0.0</td>\n",
       "      <td>0.0</td>\n",
       "      <td>0.0</td>\n",
       "      <td>0</td>\n",
       "    </tr>\n",
       "  </tbody>\n",
       "</table>\n",
       "<p>5 rows × 188 columns</p>\n",
       "</div>"
      ],
      "text/plain": [
       "    Point 1   Point 2   Point 3   Point 4   Point 5   Point 6   Point 7  \\\n",
       "0  0.977941  0.926471  0.681373  0.245098  0.154412  0.191176  0.151961   \n",
       "1  0.960114  0.863248  0.461538  0.196581  0.094017  0.125356  0.099715   \n",
       "2  1.000000  0.659459  0.186486  0.070270  0.070270  0.059459  0.056757   \n",
       "3  0.925414  0.665746  0.541436  0.276243  0.196133  0.077348  0.071823   \n",
       "4  0.967136  1.000000  0.830986  0.586854  0.356808  0.248826  0.145540   \n",
       "\n",
       "    Point 8   Point 9  Point 10  ...  Point 179  Point 180  Point 181  \\\n",
       "0  0.085784  0.058824  0.049020  ...        0.0        0.0        0.0   \n",
       "1  0.088319  0.074074  0.082621  ...        0.0        0.0        0.0   \n",
       "2  0.043243  0.054054  0.045946  ...        0.0        0.0        0.0   \n",
       "3  0.060773  0.066298  0.058011  ...        0.0        0.0        0.0   \n",
       "4  0.089202  0.117371  0.150235  ...        0.0        0.0        0.0   \n",
       "\n",
       "   Point 182  Point 183  Point 184  Point 185  Point 186  Point 187  label  \n",
       "0        0.0        0.0        0.0        0.0        0.0        0.0      0  \n",
       "1        0.0        0.0        0.0        0.0        0.0        0.0      0  \n",
       "2        0.0        0.0        0.0        0.0        0.0        0.0      0  \n",
       "3        0.0        0.0        0.0        0.0        0.0        0.0      0  \n",
       "4        0.0        0.0        0.0        0.0        0.0        0.0      0  \n",
       "\n",
       "[5 rows x 188 columns]"
      ]
     },
     "execution_count": 2,
     "metadata": {},
     "output_type": "execute_result"
    }
   ],
   "source": [
    "data_file_train = \".\\data\\mitbih_train.csv\"\n",
    "data_file_test = \".\\data\\mitbih_test.csv\"\n",
    "\n",
    "column_names = [f\"Point {i+1}\" for i in range(187)] + [\"label\"]\n",
    "df_train = pd.read_csv(data_file_train, names=column_names)\n",
    "df_test = pd.read_csv(data_file_test, names=column_names)\n",
    "\n",
    "df_train[\"label\"] = df_train[\"label\"].astype(int)\n",
    "df_test[\"label\"] = df_test[\"label\"].astype(int)\n",
    "\n",
    "df_train.head()"
   ]
  },
  {
   "cell_type": "code",
   "execution_count": 3,
   "id": "33a93a50",
   "metadata": {
    "ExecuteTime": {
     "end_time": "2023-10-09T15:47:59.245182Z",
     "start_time": "2023-10-09T15:47:59.209928Z"
    }
   },
   "outputs": [
    {
     "data": {
      "text/plain": [
       "float64    187\n",
       "int32        1\n",
       "dtype: int64"
      ]
     },
     "execution_count": 3,
     "metadata": {},
     "output_type": "execute_result"
    }
   ],
   "source": [
    "df_train.dtypes.value_counts()"
   ]
  },
  {
   "cell_type": "markdown",
   "id": "195eab26",
   "metadata": {},
   "source": [
    "This confirms that we have 187 rows of data and an integer output label for each rows. Let us then take a look of the data shape."
   ]
  },
  {
   "cell_type": "code",
   "execution_count": 42,
   "id": "6d7407ca",
   "metadata": {
    "ExecuteTime": {
     "end_time": "2023-10-09T16:15:37.251773Z",
     "start_time": "2023-10-09T16:15:37.235822Z"
    }
   },
   "outputs": [
    {
     "name": "stdout",
     "output_type": "stream",
     "text": [
      "Train Dataframe Shape = (87554, 188)\n",
      "Test Dataframe Shape = (21892, 188)\n"
     ]
    }
   ],
   "source": [
    "print(f\"Train Dataframe Shape = {df_train.shape}\")\n",
    "print(f\"Test Dataframe Shape = {df_test.shape}\")"
   ]
  },
  {
   "cell_type": "markdown",
   "id": "cefe3f45",
   "metadata": {},
   "source": [
    "Drop the label column and check if all the points are between 0 and 1"
   ]
  },
  {
   "cell_type": "code",
   "execution_count": 41,
   "id": "fa34b2e8",
   "metadata": {
    "ExecuteTime": {
     "end_time": "2023-10-09T16:13:50.890183Z",
     "start_time": "2023-10-09T16:13:50.645151Z"
    }
   },
   "outputs": [
    {
     "data": {
      "text/plain": [
       "0"
      ]
     },
     "execution_count": 41,
     "metadata": {},
     "output_type": "execute_result"
    }
   ],
   "source": [
    "df_train.drop(columns='label')[(0 <= df_train) & (df_train <= 1)].isna().sum().sum()"
   ]
  },
  {
   "cell_type": "code",
   "execution_count": 43,
   "id": "b51619ea",
   "metadata": {
    "ExecuteTime": {
     "end_time": "2023-10-09T16:16:35.181527Z",
     "start_time": "2023-10-09T16:16:35.108684Z"
    },
    "scrolled": true
   },
   "outputs": [
    {
     "data": {
      "text/plain": [
       "0"
      ]
     },
     "execution_count": 43,
     "metadata": {},
     "output_type": "execute_result"
    }
   ],
   "source": [
    "df_test.drop(columns='label')[(0 <= df_test) & (df_test <= 1)].isna().sum().sum()"
   ]
  },
  {
   "cell_type": "markdown",
   "id": "4ed1ce12",
   "metadata": {},
   "source": [
    "Every feature in this dataset is numeric and strictly between 0 and 1. The target variable is a categorical variable encoded as in integer"
   ]
  },
  {
   "cell_type": "markdown",
   "id": "e7ebb602",
   "metadata": {},
   "source": [
    "## Preprocessing"
   ]
  },
  {
   "cell_type": "markdown",
   "id": "896acdbd",
   "metadata": {},
   "source": [
    "This is a very large dataset and it would be impractical to train a model with my laptop due to the expensive training costs. Because of this, both the train and test data will be down sampled by 10x in order to create a smaller dataset to work with.\n",
    "\n",
    "Firstly, let us visualize the distribution of different classes in the train and test data."
   ]
  },
  {
   "cell_type": "code",
   "execution_count": 45,
   "id": "49d1b1e0",
   "metadata": {
    "ExecuteTime": {
     "end_time": "2023-10-09T16:33:27.955971Z",
     "start_time": "2023-10-09T16:33:27.709033Z"
    }
   },
   "outputs": [
    {
     "data": {
      "text/plain": [
       "Text(0.5, 1.0, 'Test Data Label Distribution')"
      ]
     },
     "execution_count": 45,
     "metadata": {},
     "output_type": "execute_result"
    },
    {
     "data": {
      "image/png": "[encoded data removed]",
      "text/plain": [
       "<Figure size 2000x500 with 2 Axes>"
      ]
     },
     "metadata": {},
     "output_type": "display_data"
    }
   ],
   "source": [
    "train_value_counts = df_train[\"label\"].value_counts()\n",
    "test_value_counts = df_test[\"label\"].value_counts()\n",
    "\n",
    "fig, axs = plt.subplots(1, 2, figsize=(20, 5))\n",
    "axs[0].bar(train_value_counts.index, train_value_counts.values)\n",
    "axs[0].set_title(\"Train Data Label Distribution\")\n",
    "axs[1].bar(test_value_counts.index, test_value_counts.values)\n",
    "axs[1].set_title(\"Test Data Label Distribution\")"
   ]
  },
  {
   "cell_type": "code",
   "execution_count": 46,
   "id": "87f30621",
   "metadata": {
    "ExecuteTime": {
     "end_time": "2023-10-09T16:34:06.898555Z",
     "start_time": "2023-10-09T16:34:06.886571Z"
    }
   },
   "outputs": [
    {
     "name": "stdout",
     "output_type": "stream",
     "text": [
      "Class Proportions\n"
     ]
    },
    {
     "data": {
      "text/plain": [
       "0    0.827729\n",
       "4    0.073452\n",
       "2    0.066108\n",
       "1    0.025390\n",
       "3    0.007321\n",
       "Name: label, dtype: float64"
      ]
     },
     "execution_count": 46,
     "metadata": {},
     "output_type": "execute_result"
    }
   ],
   "source": [
    "print(\"Class Proportions\")\n",
    "train_value_counts / np.sum(train_value_counts)"
   ]
  },
  {
   "cell_type": "code",
   "execution_count": 48,
   "id": "331c1693",
   "metadata": {
    "ExecuteTime": {
     "end_time": "2023-10-09T16:34:18.438771Z",
     "start_time": "2023-10-09T16:34:18.421619Z"
    }
   },
   "outputs": [
    {
     "name": "stdout",
     "output_type": "stream",
     "text": [
      "Class Proportions\n"
     ]
    },
    {
     "data": {
      "text/plain": [
       "0    0.827608\n",
       "4    0.073451\n",
       "2    0.066143\n",
       "1    0.025397\n",
       "3    0.007400\n",
       "Name: label, dtype: float64"
      ]
     },
     "execution_count": 48,
     "metadata": {},
     "output_type": "execute_result"
    }
   ],
   "source": [
    "print(\"Class Proportions\")\n",
    "test_value_counts / np.sum(test_value_counts)"
   ]
  },
  {
   "cell_type": "markdown",
   "id": "af4fe640",
   "metadata": {},
   "source": [
    "Our dataset is very imbalanced with almost 83% examples being normal normal heartbeats (category 0) and the rest being various arrhythmias. Therefore it is important to used stratified sampling to down sample the data, which will preserve the distribution of data classes. This can be done using the train_test_split() method from sklearn."
   ]
  },
  {
   "cell_type": "markdown",
   "id": "5736c98f",
   "metadata": {},
   "source": [
    "## Bibliography:"
   ]
  },
  {
   "cell_type": "markdown",
   "id": "3c17c1db",
   "metadata": {},
   "source": [
    "[1] *ECG Heartbeat Categorization Dataset*. (n.d.). Www.kaggle.com. https://www.kaggle.com/datasets/shayanfazeli/heartbeat\n",
    "\n",
    "[2] *MIT-BIH Arrhythmia Database v1.0.0*. (n.d.). Www.physionet.org. https://www.physionet.org/content/mitdb/1.0.0/\n",
    "\n",
    "[3] *PTB Diagnostic ECG Database v1.0.0*. (n.d.). Www.physionet.org. https://www.physionet.org/content/ptbdb/1.0.0/\n",
    "\n",
    "‌"
   ]
  },
  {
   "cell_type": "code",
   "execution_count": null,
   "id": "9362be46",
   "metadata": {},
   "outputs": [],
   "source": []
  }
 ],
 "metadata": {
  "kernelspec": {
   "display_name": "Python 3 (ipykernel)",
   "language": "python",
   "name": "python3"
  },
  "language_info": {
   "codemirror_mode": {
    "name": "ipython",
    "version": 3
   },
   "file_extension": ".py",
   "mimetype": "text/x-python",
   "name": "python",
   "nbconvert_exporter": "python",
   "pygments_lexer": "ipython3",
   "version": "3.9.13"
  },
  "toc": {
   "base_numbering": 1,
   "nav_menu": {},
   "number_sections": true,
   "sideBar": true,
   "skip_h1_title": true,
   "title_cell": "Table of Contents",
   "title_sidebar": "Contents",
   "toc_cell": false,
   "toc_position": {
    "height": "calc(100% - 180px)",
    "left": "10px",
    "top": "150px",
    "width": "165px"
   },
   "toc_section_display": true,
   "toc_window_display": true
  }
 },
 "nbformat": 4,
 "nbformat_minor": 5
}
